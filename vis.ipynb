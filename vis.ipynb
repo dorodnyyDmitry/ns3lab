import matplotlib.pyplot as plt
import numpy as np
from matplotlib import cm
from mpl_toolkits.mplot3d import Axes3D

window_sizes = [8, 16, 24, 32, 40, 48, 56, 64, 72, 80]
delays = [150, 350, 300, 500, 50, 400, 450, 250, 300, 150]
bandwidths = [562, 132, 141, 249, 275, 343, 268, 2000, 449, 1500]

fig = plt.figure()
ax = fig.add_subplot(111, projection='3d')


ax.bar(window_sizes, bandwidths, delays, zdir='y', tick_label = "a")

ax.set_xlabel('Window size, KB')
ax.set_ylabel('Delay, ms')
ax.set_zlabel('bandwidth, Kbit/s')

plt.show()
